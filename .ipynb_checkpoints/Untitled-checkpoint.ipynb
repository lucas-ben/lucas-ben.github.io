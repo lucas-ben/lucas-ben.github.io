{
 "cells": [
  {
   "cell_type": "code",
   "execution_count": 27,
   "id": "6bea7f64-1cdb-407d-8477-f857cb1f4ab0",
   "metadata": {},
   "outputs": [],
   "source": [
    "import pandas as pd\n",
    "import numpy as np\n",
    "import matplotlib.pyplot as plt\n",
    "from sklearn.cluster import KMeans\n",
    "from sklearn.discriminant_analysis import LinearDiscriminantAnalysis, QuadraticDiscriminantAnalysis\n",
    "from sklearn.model_selection import train_test_split\n",
    "from sklearn.metrics import accuracy_score, confusion_matrix, classification_report\n",
    "from sklearn.preprocessing import StandardScaler"
   ]
  },
  {
   "cell_type": "code",
   "execution_count": 34,
   "id": "5a2279ec-1056-458d-8010-9a5ecf2def6f",
   "metadata": {},
   "outputs": [
    {
     "ename": "OSError",
     "evalue": "Could not find kaggle.json. Make sure it's located in /Users/lucasben/.kaggle. Or use the environment method. See setup instructions at https://github.com/Kaggle/kaggle-api/",
     "output_type": "error",
     "traceback": [
      "\u001b[0;31m---------------------------------------------------------------------------\u001b[0m",
      "\u001b[0;31mOSError\u001b[0m                                   Traceback (most recent call last)",
      "Cell \u001b[0;32mIn[34], line 2\u001b[0m\n\u001b[1;32m      1\u001b[0m \u001b[38;5;28;01mimport\u001b[39;00m \u001b[38;5;21;01mos\u001b[39;00m\n\u001b[0;32m----> 2\u001b[0m \u001b[38;5;28;01mfrom\u001b[39;00m \u001b[38;5;21;01mkaggle\u001b[39;00m\u001b[38;5;21;01m.\u001b[39;00m\u001b[38;5;21;01mapi\u001b[39;00m\u001b[38;5;21;01m.\u001b[39;00m\u001b[38;5;21;01mkaggle_api_extended\u001b[39;00m \u001b[38;5;28;01mimport\u001b[39;00m KaggleApi\n\u001b[1;32m      4\u001b[0m \u001b[38;5;66;03m# Set up Kaggle API (requires kaggle.json in ~/.kaggle)\u001b[39;00m\n\u001b[1;32m      5\u001b[0m api \u001b[38;5;241m=\u001b[39m KaggleApi()\n",
      "File \u001b[0;32m/opt/anaconda3/lib/python3.12/site-packages/kaggle/__init__.py:6\u001b[0m\n\u001b[1;32m      3\u001b[0m \u001b[38;5;28;01mfrom\u001b[39;00m \u001b[38;5;21;01mkaggle\u001b[39;00m\u001b[38;5;21;01m.\u001b[39;00m\u001b[38;5;21;01mapi\u001b[39;00m\u001b[38;5;21;01m.\u001b[39;00m\u001b[38;5;21;01mkaggle_api_extended\u001b[39;00m \u001b[38;5;28;01mimport\u001b[39;00m KaggleApi\n\u001b[1;32m      5\u001b[0m api \u001b[38;5;241m=\u001b[39m KaggleApi()\n\u001b[0;32m----> 6\u001b[0m api\u001b[38;5;241m.\u001b[39mauthenticate()\n",
      "File \u001b[0;32m/opt/anaconda3/lib/python3.12/site-packages/kaggle/api/kaggle_api_extended.py:433\u001b[0m, in \u001b[0;36mKaggleApi.authenticate\u001b[0;34m(self)\u001b[0m\n\u001b[1;32m    431\u001b[0m     \u001b[38;5;28;01mreturn\u001b[39;00m\n\u001b[1;32m    432\u001b[0m   \u001b[38;5;28;01melse\u001b[39;00m:\n\u001b[0;32m--> 433\u001b[0m     \u001b[38;5;28;01mraise\u001b[39;00m \u001b[38;5;167;01mIOError\u001b[39;00m(\u001b[38;5;124m'\u001b[39m\u001b[38;5;124mCould not find \u001b[39m\u001b[38;5;132;01m{}\u001b[39;00m\u001b[38;5;124m. Make sure it\u001b[39m\u001b[38;5;130;01m\\'\u001b[39;00m\u001b[38;5;124ms located in\u001b[39m\u001b[38;5;124m'\u001b[39m\n\u001b[1;32m    434\u001b[0m                   \u001b[38;5;124m'\u001b[39m\u001b[38;5;124m \u001b[39m\u001b[38;5;132;01m{}\u001b[39;00m\u001b[38;5;124m. Or use the environment method. See setup\u001b[39m\u001b[38;5;124m'\u001b[39m\n\u001b[1;32m    435\u001b[0m                   \u001b[38;5;124m'\u001b[39m\u001b[38;5;124m instructions at\u001b[39m\u001b[38;5;124m'\u001b[39m\n\u001b[1;32m    436\u001b[0m                   \u001b[38;5;124m'\u001b[39m\u001b[38;5;124m https://github.com/Kaggle/kaggle-api/\u001b[39m\u001b[38;5;124m'\u001b[39m\u001b[38;5;241m.\u001b[39mformat(\n\u001b[1;32m    437\u001b[0m                       \u001b[38;5;28mself\u001b[39m\u001b[38;5;241m.\u001b[39mconfig_file, \u001b[38;5;28mself\u001b[39m\u001b[38;5;241m.\u001b[39mconfig_dir))\n\u001b[1;32m    439\u001b[0m \u001b[38;5;66;03m# Step 3: load into configuration!\u001b[39;00m\n\u001b[1;32m    440\u001b[0m \u001b[38;5;28mself\u001b[39m\u001b[38;5;241m.\u001b[39m_load_config(config_data)\n",
      "\u001b[0;31mOSError\u001b[0m: Could not find kaggle.json. Make sure it's located in /Users/lucasben/.kaggle. Or use the environment method. See setup instructions at https://github.com/Kaggle/kaggle-api/"
     ]
    }
   ],
   "source": [
    "import os\n",
    "from kaggle.api.kaggle_api_extended import KaggleApi\n",
    "\n",
    "# Set up Kaggle API (requires kaggle.json in ~/.kaggle)\n",
    "api = KaggleApi()\n",
    "api.authenticate()\n",
    "\n",
    "# Download dataset\n",
    "api.dataset_download_files(\n",
    "    \"fedesoriano/stellar-classification-dataset-sdss17\",\n",
    "    path=\"data\",\n",
    "    unzip=True\n",
    ")\n",
    "\n",
    "# Load data\n",
    "df = pd.read_csv(\"data/star_classification.csv\")\n",
    "print(df.head())"
   ]
  }
 ],
 "metadata": {
  "kernelspec": {
   "display_name": "Python 3 (ipykernel)",
   "language": "python",
   "name": "python3"
  },
  "language_info": {
   "codemirror_mode": {
    "name": "ipython",
    "version": 3
   },
   "file_extension": ".py",
   "mimetype": "text/x-python",
   "name": "python",
   "nbconvert_exporter": "python",
   "pygments_lexer": "ipython3",
   "version": "3.12.4"
  }
 },
 "nbformat": 4,
 "nbformat_minor": 5
}
