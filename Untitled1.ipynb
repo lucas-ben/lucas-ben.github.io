{
 "cells": [
  {
   "cell_type": "code",
   "execution_count": 6,
   "id": "7154cff2-a0eb-4b81-8592-a8a7321496c9",
   "metadata": {},
   "outputs": [],
   "source": [
    "import pandas as pd\n",
    "import seaborn as sns\n",
    "import matplotlib.pyplot as plt\n",
    "from sklearn.preprocessing import StandardScaler\n",
    "from sklearn.cluster import KMeans\n",
    "from sklearn.decomposition import PCA"
   ]
  },
  {
   "cell_type": "code",
   "execution_count": 8,
   "id": "fc1ce10a-f2be-4815-85d0-75a7209c9a21",
   "metadata": {},
   "outputs": [],
   "source": [
    "df = pd.read_csv('/Users/lucasben/lucas-ben.github.io/datasets/stats2.csv')"
   ]
  },
  {
   "cell_type": "code",
   "execution_count": 14,
   "id": "e5eaa643-d221-40ab-80f1-97f52eebae8f",
   "metadata": {},
   "outputs": [
    {
     "ename": "KeyError",
     "evalue": "\"['xwoba'] not in index\"",
     "output_type": "error",
     "traceback": [
      "\u001b[0;31m---------------------------------------------------------------------------\u001b[0m",
      "\u001b[0;31mKeyError\u001b[0m                                  Traceback (most recent call last)",
      "Cell \u001b[0;32mIn[14], line 67\u001b[0m\n\u001b[1;32m     65\u001b[0m \u001b[38;5;66;03m# Show the top 10 players by total home runs\u001b[39;00m\n\u001b[1;32m     66\u001b[0m top_hr \u001b[38;5;241m=\u001b[39m player_stats\u001b[38;5;241m.\u001b[39msort_values(\u001b[38;5;124m'\u001b[39m\u001b[38;5;124mhome_run_sum\u001b[39m\u001b[38;5;124m'\u001b[39m, ascending\u001b[38;5;241m=\u001b[39m\u001b[38;5;28;01mFalse\u001b[39;00m)\u001b[38;5;241m.\u001b[39mhead(\u001b[38;5;241m10\u001b[39m)\n\u001b[0;32m---> 67\u001b[0m \u001b[38;5;28mprint\u001b[39m(top_hr[[\u001b[38;5;124m'\u001b[39m\u001b[38;5;124mlast_name, first_name\u001b[39m\u001b[38;5;124m'\u001b[39m, \u001b[38;5;124m'\u001b[39m\u001b[38;5;124mhome_run_sum\u001b[39m\u001b[38;5;124m'\u001b[39m, \u001b[38;5;124m'\u001b[39m\u001b[38;5;124mhr_per_600_pa\u001b[39m\u001b[38;5;124m'\u001b[39m, \u001b[38;5;124m'\u001b[39m\u001b[38;5;124mxwoba\u001b[39m\u001b[38;5;124m'\u001b[39m]])\n\u001b[1;32m     69\u001b[0m \u001b[38;5;66;03m# Save to CSV for further analysis\u001b[39;00m\n\u001b[1;32m     70\u001b[0m player_stats\u001b[38;5;241m.\u001b[39mto_csv(\u001b[38;5;124m'\u001b[39m\u001b[38;5;124mmlb_player_aggregates_2021-2024.csv\u001b[39m\u001b[38;5;124m'\u001b[39m, index\u001b[38;5;241m=\u001b[39m\u001b[38;5;28;01mFalse\u001b[39;00m)\n",
      "File \u001b[0;32m/opt/anaconda3/lib/python3.12/site-packages/pandas/core/frame.py:4108\u001b[0m, in \u001b[0;36mDataFrame.__getitem__\u001b[0;34m(self, key)\u001b[0m\n\u001b[1;32m   4106\u001b[0m     \u001b[38;5;28;01mif\u001b[39;00m is_iterator(key):\n\u001b[1;32m   4107\u001b[0m         key \u001b[38;5;241m=\u001b[39m \u001b[38;5;28mlist\u001b[39m(key)\n\u001b[0;32m-> 4108\u001b[0m     indexer \u001b[38;5;241m=\u001b[39m \u001b[38;5;28mself\u001b[39m\u001b[38;5;241m.\u001b[39mcolumns\u001b[38;5;241m.\u001b[39m_get_indexer_strict(key, \u001b[38;5;124m\"\u001b[39m\u001b[38;5;124mcolumns\u001b[39m\u001b[38;5;124m\"\u001b[39m)[\u001b[38;5;241m1\u001b[39m]\n\u001b[1;32m   4110\u001b[0m \u001b[38;5;66;03m# take() does not accept boolean indexers\u001b[39;00m\n\u001b[1;32m   4111\u001b[0m \u001b[38;5;28;01mif\u001b[39;00m \u001b[38;5;28mgetattr\u001b[39m(indexer, \u001b[38;5;124m\"\u001b[39m\u001b[38;5;124mdtype\u001b[39m\u001b[38;5;124m\"\u001b[39m, \u001b[38;5;28;01mNone\u001b[39;00m) \u001b[38;5;241m==\u001b[39m \u001b[38;5;28mbool\u001b[39m:\n",
      "File \u001b[0;32m/opt/anaconda3/lib/python3.12/site-packages/pandas/core/indexes/base.py:6200\u001b[0m, in \u001b[0;36mIndex._get_indexer_strict\u001b[0;34m(self, key, axis_name)\u001b[0m\n\u001b[1;32m   6197\u001b[0m \u001b[38;5;28;01melse\u001b[39;00m:\n\u001b[1;32m   6198\u001b[0m     keyarr, indexer, new_indexer \u001b[38;5;241m=\u001b[39m \u001b[38;5;28mself\u001b[39m\u001b[38;5;241m.\u001b[39m_reindex_non_unique(keyarr)\n\u001b[0;32m-> 6200\u001b[0m \u001b[38;5;28mself\u001b[39m\u001b[38;5;241m.\u001b[39m_raise_if_missing(keyarr, indexer, axis_name)\n\u001b[1;32m   6202\u001b[0m keyarr \u001b[38;5;241m=\u001b[39m \u001b[38;5;28mself\u001b[39m\u001b[38;5;241m.\u001b[39mtake(indexer)\n\u001b[1;32m   6203\u001b[0m \u001b[38;5;28;01mif\u001b[39;00m \u001b[38;5;28misinstance\u001b[39m(key, Index):\n\u001b[1;32m   6204\u001b[0m     \u001b[38;5;66;03m# GH 42790 - Preserve name from an Index\u001b[39;00m\n",
      "File \u001b[0;32m/opt/anaconda3/lib/python3.12/site-packages/pandas/core/indexes/base.py:6252\u001b[0m, in \u001b[0;36mIndex._raise_if_missing\u001b[0;34m(self, key, indexer, axis_name)\u001b[0m\n\u001b[1;32m   6249\u001b[0m     \u001b[38;5;28;01mraise\u001b[39;00m \u001b[38;5;167;01mKeyError\u001b[39;00m(\u001b[38;5;124mf\u001b[39m\u001b[38;5;124m\"\u001b[39m\u001b[38;5;124mNone of [\u001b[39m\u001b[38;5;132;01m{\u001b[39;00mkey\u001b[38;5;132;01m}\u001b[39;00m\u001b[38;5;124m] are in the [\u001b[39m\u001b[38;5;132;01m{\u001b[39;00maxis_name\u001b[38;5;132;01m}\u001b[39;00m\u001b[38;5;124m]\u001b[39m\u001b[38;5;124m\"\u001b[39m)\n\u001b[1;32m   6251\u001b[0m not_found \u001b[38;5;241m=\u001b[39m \u001b[38;5;28mlist\u001b[39m(ensure_index(key)[missing_mask\u001b[38;5;241m.\u001b[39mnonzero()[\u001b[38;5;241m0\u001b[39m]]\u001b[38;5;241m.\u001b[39munique())\n\u001b[0;32m-> 6252\u001b[0m \u001b[38;5;28;01mraise\u001b[39;00m \u001b[38;5;167;01mKeyError\u001b[39;00m(\u001b[38;5;124mf\u001b[39m\u001b[38;5;124m\"\u001b[39m\u001b[38;5;132;01m{\u001b[39;00mnot_found\u001b[38;5;132;01m}\u001b[39;00m\u001b[38;5;124m not in index\u001b[39m\u001b[38;5;124m\"\u001b[39m)\n",
      "\u001b[0;31mKeyError\u001b[0m: \"['xwoba'] not in index\""
     ]
    }
   ],
   "source": [
    "import pandas as pd\n",
    "import numpy as np\n",
    "\n",
    "# Assuming df is your original dataframe\n",
    "# First ensure numeric columns are properly typed\n",
    "numeric_cols = ['player_age', 'pa', 'double', 'home_run', 'k_percent', \n",
    "                'bb_percent', 'xwoba', 'exit_velocity_avg', \n",
    "                'out_zone_swing_miss', 'pull_percent', \n",
    "                'opposite_percent', 'groundballs_percent']\n",
    "\n",
    "df[numeric_cols] = df[numeric_cols].apply(pd.to_numeric, errors='coerce')\n",
    "\n",
    "# Group by player_id and last_name, first_name\n",
    "agg_rules = {\n",
    "    'player_age': 'max',  # Get most recent age\n",
    "    'year': ['min', 'max', 'count'],  # First year, last year, seasons played\n",
    "    'pa': 'sum',\n",
    "    'double': 'sum',\n",
    "    'home_run': 'sum',\n",
    "    'k_percent': 'mean',  # Average rate stats\n",
    "    'bb_percent': 'mean',\n",
    "    'xwoba': 'mean',\n",
    "    'exit_velocity_avg': 'mean',\n",
    "    'out_zone_swing_miss': 'mean',\n",
    "    'pull_percent': 'mean',\n",
    "    'opposite_percent': 'mean',\n",
    "    'groundballs_percent': 'mean'\n",
    "}\n",
    "\n",
    "player_stats = df.groupby(['player_id', 'last_name, first_name']).agg(agg_rules)\n",
    "\n",
    "# Flatten multi-index columns\n",
    "player_stats.columns = ['_'.join(col).strip() for col in player_stats.columns.values]\n",
    "\n",
    "# Rename columns for clarity\n",
    "player_stats = player_stats.rename(columns={\n",
    "    'year_min': 'first_year',\n",
    "    'year_max': 'last_year',\n",
    "    'year_count': 'seasons_played',\n",
    "    'k_percent_mean': 'k_percent',\n",
    "    'bb_percent_mean': 'bb_percent',\n",
    "    'player_age_max': 'current_age'\n",
    "})\n",
    "\n",
    "# Calculate some derived metrics\n",
    "player_stats['total_pa'] = player_stats['pa_sum']\n",
    "player_stats['hr_per_600_pa'] = (player_stats['home_run_sum'] / player_stats['pa_sum']) * 600\n",
    "player_stats['doubles_per_600_pa'] = (player_stats['double_sum'] / player_stats['pa_sum']) * 600\n",
    "player_stats['bb_k_diff'] = player_stats['bb_percent'] - player_stats['k_percent']\n",
    "\n",
    "# Reset index to make player_id and name regular columns\n",
    "player_stats = player_stats.reset_index()\n",
    "\n",
    "# Filter for players with at least 2 seasons (optional)\n",
    "player_stats = player_stats[player_stats['seasons_played'] >= 2]\n",
    "\n",
    "# Calculate year-to-year consistency metrics (example with xwOBA)\n",
    "# First get standard deviation for each player's xwoba across years\n",
    "xwoba_std = df.groupby('player_id')['xwoba'].std().reset_index()\n",
    "xwoba_std = xwoba_std.rename(columns={'xwoba': 'xwoba_std'})\n",
    "\n",
    "# Merge with player stats\n",
    "player_stats = player_stats.merge(xwoba_std, on='player_id', how='left')\n",
    "\n",
    "# Show the top 10 players by total home runs\n",
    "top_hr = player_stats.sort_values('home_run_sum', ascending=False).head(10)\n",
    "print(top_hr[['last_name, first_name', 'home_run_sum', 'hr_per_600_pa', 'xwoba']])\n",
    "\n",
    "# Save to CSV for further analysis\n",
    "player_stats.to_csv('mlb_player_aggregates_2021-2024.csv', index=False)"
   ]
  },
  {
   "cell_type": "code",
   "execution_count": null,
   "id": "d1856f69-0d39-4a8f-bf34-2801fcc25afd",
   "metadata": {},
   "outputs": [],
   "source": []
  }
 ],
 "metadata": {
  "kernelspec": {
   "display_name": "Python 3 (ipykernel)",
   "language": "python",
   "name": "python3"
  },
  "language_info": {
   "codemirror_mode": {
    "name": "ipython",
    "version": 3
   },
   "file_extension": ".py",
   "mimetype": "text/x-python",
   "name": "python",
   "nbconvert_exporter": "python",
   "pygments_lexer": "ipython3",
   "version": "3.12.4"
  }
 },
 "nbformat": 4,
 "nbformat_minor": 5
}
